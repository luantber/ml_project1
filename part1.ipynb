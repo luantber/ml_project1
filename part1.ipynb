{
 "metadata": {
  "language_info": {
   "codemirror_mode": {
    "name": "ipython",
    "version": 3
   },
   "file_extension": ".py",
   "mimetype": "text/x-python",
   "name": "python",
   "nbconvert_exporter": "python",
   "pygments_lexer": "ipython3",
   "version": "3.8.5"
  },
  "orig_nbformat": 2,
  "kernelspec": {
   "name": "python38564bit128db23b15d545c598742c750c9cf90d",
   "display_name": "Python 3.8.5 64-bit"
  },
  "metadata": {
   "interpreter": {
    "hash": "916dbcbb3f70747c44a77c7bcd40155683ae19c65e1c03b4aa3499c5328201f1"
   }
  }
 },
 "nbformat": 4,
 "nbformat_minor": 2,
 "cells": [
  {
   "source": [
    "# Machine Learning Project 1  ( Part 1 )\n",
    "## UNICAMP"
   ],
   "cell_type": "markdown",
   "metadata": {}
  },
  {
   "source": [
    "## Dataset 1"
   ],
   "cell_type": "markdown",
   "metadata": {}
  },
  {
   "source": [
    "Load Datasets\n"
   ],
   "cell_type": "markdown",
   "metadata": {}
  },
  {
   "cell_type": "code",
   "execution_count": 22,
   "metadata": {},
   "outputs": [
    {
     "output_type": "execute_result",
     "data": {
      "text/plain": [
       "          0      1\n",
       "0    1555.0  28.65\n",
       "1    1490.0  27.55\n",
       "2    1445.0  28.35\n",
       "3    1415.0  28.80\n",
       "4    1375.0  28.05\n",
       "..      ...    ...\n",
       "568  3420.0  27.95\n",
       "569  3465.0  26.85\n",
       "570  3525.0  26.00\n",
       "571  3570.0  26.15\n",
       "572  3440.0  25.60\n",
       "\n",
       "[573 rows x 2 columns]"
      ],
      "text/html": "<div>\n<style scoped>\n    .dataframe tbody tr th:only-of-type {\n        vertical-align: middle;\n    }\n\n    .dataframe tbody tr th {\n        vertical-align: top;\n    }\n\n    .dataframe thead th {\n        text-align: right;\n    }\n</style>\n<table border=\"1\" class=\"dataframe\">\n  <thead>\n    <tr style=\"text-align: right;\">\n      <th></th>\n      <th>0</th>\n      <th>1</th>\n    </tr>\n  </thead>\n  <tbody>\n    <tr>\n      <th>0</th>\n      <td>1555.0</td>\n      <td>28.65</td>\n    </tr>\n    <tr>\n      <th>1</th>\n      <td>1490.0</td>\n      <td>27.55</td>\n    </tr>\n    <tr>\n      <th>2</th>\n      <td>1445.0</td>\n      <td>28.35</td>\n    </tr>\n    <tr>\n      <th>3</th>\n      <td>1415.0</td>\n      <td>28.80</td>\n    </tr>\n    <tr>\n      <th>4</th>\n      <td>1375.0</td>\n      <td>28.05</td>\n    </tr>\n    <tr>\n      <th>...</th>\n      <td>...</td>\n      <td>...</td>\n    </tr>\n    <tr>\n      <th>568</th>\n      <td>3420.0</td>\n      <td>27.95</td>\n    </tr>\n    <tr>\n      <th>569</th>\n      <td>3465.0</td>\n      <td>26.85</td>\n    </tr>\n    <tr>\n      <th>570</th>\n      <td>3525.0</td>\n      <td>26.00</td>\n    </tr>\n    <tr>\n      <th>571</th>\n      <td>3570.0</td>\n      <td>26.15</td>\n    </tr>\n    <tr>\n      <th>572</th>\n      <td>3440.0</td>\n      <td>25.60</td>\n    </tr>\n  </tbody>\n</table>\n<p>573 rows × 2 columns</p>\n</div>"
     },
     "metadata": {},
     "execution_count": 22
    }
   ],
   "source": [
    "import pandas as pd\n",
    "import numpy as np\n",
    "\n",
    "df = pd.read_table(\"cluster.dat\",header=None, sep=\"\\s+\")\n",
    "datos = pd.DataFrame(df)\n",
    "\n",
    "datos\n"
   ]
  },
  {
   "source": [
    "Transformamos el dataset a un array de nummpy"
   ],
   "cell_type": "markdown",
   "metadata": {}
  },
  {
   "cell_type": "code",
   "execution_count": 23,
   "metadata": {},
   "outputs": [
    {
     "output_type": "execute_result",
     "data": {
      "text/plain": [
       "array([[1555.  ,   28.65],\n",
       "       [1490.  ,   27.55],\n",
       "       [1445.  ,   28.35],\n",
       "       ...,\n",
       "       [3525.  ,   26.  ],\n",
       "       [3570.  ,   26.15],\n",
       "       [3440.  ,   25.6 ]])"
      ]
     },
     "metadata": {},
     "execution_count": 23
    }
   ],
   "source": [
    "datos=datos.to_numpy()\n",
    "datos"
   ]
  },
  {
   "source": [
    "Shuffle data"
   ],
   "cell_type": "markdown",
   "metadata": {}
  },
  {
   "cell_type": "code",
   "execution_count": 24,
   "metadata": {},
   "outputs": [
    {
     "output_type": "execute_result",
     "data": {
      "text/plain": [
       "array([[3385.  ,   20.  ],\n",
       "       [2075.  ,    8.75],\n",
       "       [ 830.  ,   18.5 ],\n",
       "       ...,\n",
       "       [1675.  ,   11.5 ],\n",
       "       [1860.  ,    3.45],\n",
       "       [1300.  ,   29.15]])"
      ]
     },
     "metadata": {},
     "execution_count": 24
    }
   ],
   "source": [
    "np.random.shuffle(datos)\n",
    "datos"
   ]
  },
  {
   "source": [
    "Split data in train and test:\n",
    "- 90% train \n",
    "- 10% test"
   ],
   "cell_type": "markdown",
   "metadata": {}
  },
  {
   "cell_type": "code",
   "execution_count": 25,
   "metadata": {},
   "outputs": [
    {
     "output_type": "stream",
     "name": "stdout",
     "text": [
      "Train (515, 2)\nTest (58, 2)\n"
     ]
    }
   ],
   "source": [
    "datos_train = datos[:int(0.9*len(datos))]\n",
    "datos_test = datos[int(0.9*len(datos)):]\n",
    "\n",
    "print(\"Train\", datos_train.shape)\n",
    "print(\"Test\", datos_test.shape)"
   ]
  },
  {
   "cell_type": "code",
   "execution_count": 26,
   "metadata": {},
   "outputs": [],
   "source": [
    "x_train = datos_train[:,0]\n",
    "y_train = datos_train[:,1]"
   ]
  },
  {
   "source": [
    "### Normalization\n",
    "Min max Scaler"
   ],
   "cell_type": "markdown",
   "metadata": {}
  },
  {
   "cell_type": "code",
   "execution_count": 29,
   "metadata": {},
   "outputs": [],
   "source": [
    "def normalization(x,y,x_max, x_min , y_max, y_min):\n",
    "    print(\"Normalizating using parameters: x\", x_max,\"\\t\",x_min)\n",
    "    print(\"Normalizating using parameters: y\", y_max,\"\\t\",y_min)\n",
    "    x=(x-x_min)/(x_max-x_min) \n",
    "    y=(y-y_min)/(y_max-y_min)\n",
    "    return x,y\n",
    "\n",
    "x_max = x_train.max()\n",
    "x_min = x_train.min()\n",
    "y_max = y_train.max()\n",
    "y_min = y_train.min()"
   ]
  },
  {
   "cell_type": "code",
   "execution_count": 30,
   "metadata": {},
   "outputs": [
    {
     "output_type": "stream",
     "name": "stdout",
     "text": [
      "Normalizating using parameters: x 3635.0 \t 335.0\nNormalizating using parameters: y 28.8 \t 1.95\nx_train [0.92424242 0.52727273 0.15      ]\ny_train [0.67225326 0.25325885 0.61638734]\n"
     ]
    }
   ],
   "source": [
    "x_n_train, y_n_train = normalization(x_train,y_train,x_max,x_min,y_max,y_min)\n",
    "print(\"x_train\",x_n_train[:3])\n",
    "print(\"y_train\",y_n_train[:3])"
   ]
  }
 ]
}